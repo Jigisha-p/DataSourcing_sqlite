{
 "cells": [
  {
   "cell_type": "code",
   "execution_count": null,
   "id": "5b5f63f5-d772-49e7-b062-7ae21355af7c",
   "metadata": {},
   "outputs": [],
   "source": [
    "import sqlite3"
   ]
  },
  {
   "cell_type": "code",
   "execution_count": null,
   "id": "8c457664-932b-4a79-a275-5a517975cbda",
   "metadata": {},
   "outputs": [],
   "source": [
    "conn = sqlite3.connect('data/movies.sqlite')\n",
    "db = conn.cursor()\n",
    "#db.execute(\"YOUR SQL QUERY\")\n",
    "#rows = db.fetchall()\n",
    "#print(rows)"
   ]
  },
  {
   "cell_type": "code",
   "execution_count": null,
   "id": "ca5dda5a-5af7-4691-8778-986bbcce5369",
   "metadata": {},
   "outputs": [],
   "source": [
    "directors_count(db)"
   ]
  },
  {
   "cell_type": "code",
   "execution_count": null,
   "id": "76cc97e7-ec93-458b-beb6-ac53667840e2",
   "metadata": {},
   "outputs": [],
   "source": [
    "directors_list(db)"
   ]
  },
  {
   "cell_type": "code",
   "execution_count": null,
   "id": "fd74a8ea-785c-4a09-9f67-ad2c9f6f5148",
   "metadata": {},
   "outputs": [],
   "source": [
    "love_movies(db)"
   ]
  },
  {
   "cell_type": "code",
   "execution_count": null,
   "id": "d1dde53f-80bb-4623-af39-baff2003f8d6",
   "metadata": {},
   "outputs": [],
   "source": [
    "directors_named_like_count(db, 'Aamir Khan')"
   ]
  },
  {
   "cell_type": "code",
   "execution_count": null,
   "id": "579cb6b3-d9df-45e8-9a69-664572e6fa22",
   "metadata": {},
   "outputs": [],
   "source": [
    "movies_longer_than(db, 180)"
   ]
  },
  {
   "cell_type": "code",
   "execution_count": null,
   "id": "bae26d5b-d32f-435f-95d3-38e08c13090a",
   "metadata": {},
   "outputs": [],
   "source": [
    "def directors_count(db):\n",
    "    # return the number of directors contained in the database\n",
    "\n",
    "    query = \"\"\"\n",
    "        SELECT COUNT(*)\n",
    "        FROM directors\n",
    "    \"\"\"\n",
    "    db.execute(query)\n",
    "    count = db.fetchone()\n",
    "    return count[0]\n"
   ]
  },
  {
   "cell_type": "code",
   "execution_count": null,
   "id": "46c86f0d-2cb7-41c2-9eb7-7d0746d9d524",
   "metadata": {},
   "outputs": [],
   "source": [
    "def directors_list(db):\n",
    "    # return the list of all the directors sorted in alphabetical order\n",
    "\n",
    "    query = \"\"\"\n",
    "        SELECT name\n",
    "        FROM directors\n",
    "        ORDER BY name\n",
    "    \"\"\"\n",
    "    db.execute(query)\n",
    "    directors = db.fetchall()\n",
    "    return [director[0] for director in directors]"
   ]
  },
  {
   "cell_type": "code",
   "execution_count": null,
   "id": "2b4b6be3-09f5-4829-823d-fa977d55b44c",
   "metadata": {},
   "outputs": [],
   "source": [
    "def love_movies(db):\n",
    "    # return the list of all movies which contain the exact word \"love\"\n",
    "    # in their title, sorted in alphabetical order\n",
    "\n",
    "    query = \"\"\"\n",
    "        SELECT title\n",
    "        FROM movies\n",
    "        WHERE UPPER(title) LIKE '% LOVE %'\n",
    "        OR UPPER(title) LIKE 'LOVE %'\n",
    "        OR UPPER(title) LIKE '% LOVE'\n",
    "        OR UPPER(title) LIKE 'LOVE'\n",
    "        OR UPPER(title) LIKE '% LOVE''%'\n",
    "        OR UPPER(title) LIKE '% LOVE.'\n",
    "        OR UPPER(title) LIKE 'LOVE,%'\n",
    "        ORDER BY title\n",
    "    \"\"\"\n",
    "\n",
    "    # PostgreSQL database provide functions and operators to deal with\n",
    "    # Regex https://www.postgresql.org/docs/9.3/functions-matching.html\n",
    "    # Below is proposed a PostgreSQL solution:\n",
    "    # SELECT title\n",
    "    # FROM movies\n",
    "    # WHERE title ~* '\\mlove\\M'\n",
    "    # ORDER BY title\n",
    "\n",
    "    db.execute(query)\n",
    "    movies = db.fetchall()\n",
    "    return [movie[0] for movie in movies]"
   ]
  },
  {
   "cell_type": "code",
   "execution_count": null,
   "id": "51e08e6b-1290-4632-8b7d-8425f1b38096",
   "metadata": {},
   "outputs": [],
   "source": [
    "def directors_named_like_count(db, name):\n",
    "    # return the number of directors which contain a given word in their name\n",
    "\n",
    "    query = \"\"\"\n",
    "        SELECT COUNT(*)\n",
    "        FROM directors\n",
    "        WHERE name LIKE ?\n",
    "    \"\"\"\n",
    "    db.execute(query, (f\"%{name}%\",))\n",
    "    count = db.fetchone()\n",
    "    return count[0]"
   ]
  },
  {
   "cell_type": "code",
   "execution_count": null,
   "id": "a7230cc5-4a81-440f-aaf3-c2de4b3915b9",
   "metadata": {},
   "outputs": [],
   "source": [
    "def movies_longer_than(db, min_length):\n",
    "    # return this list of all movies which are longer than a given duration,\n",
    "    # sorted in the alphabetical order\n",
    "\n",
    "    query = \"\"\"\n",
    "        SELECT title\n",
    "        FROM movies\n",
    "        WHERE minutes > ?\n",
    "        ORDER BY title\n",
    "    \"\"\"\n",
    "    db.execute(query, (min_length,))\n",
    "    movies = db.fetchall()\n",
    "    return [movie[0] for movie in movies]"
   ]
  }
 ],
 "metadata": {
  "kernelspec": {
   "display_name": "Python 3 (ipykernel)",
   "language": "python",
   "name": "python3"
  },
  "language_info": {
   "codemirror_mode": {
    "name": "ipython",
    "version": 3
   },
   "file_extension": ".py",
   "mimetype": "text/x-python",
   "name": "python",
   "nbconvert_exporter": "python",
   "pygments_lexer": "ipython3",
   "version": "3.10.8"
  }
 },
 "nbformat": 4,
 "nbformat_minor": 5
}
