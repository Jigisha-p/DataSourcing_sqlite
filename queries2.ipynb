{
 "cells": [
  {
   "cell_type": "code",
   "execution_count": null,
   "id": "84ffb87f-ec13-413d-bb4f-e1f565c2e1fc",
   "metadata": {},
   "outputs": [],
   "source": [
    "import sqlite3"
   ]
  },
  {
   "cell_type": "code",
   "execution_count": null,
   "id": "25e797ca-f2f4-410e-9230-31e64739cbb5",
   "metadata": {},
   "outputs": [],
   "source": [
    "conn = sqlite3.connect('data/movies.sqlite')\n",
    "db = conn.cursor()\n",
    "#db.execute(\"YOUR SQL QUERY\")\n",
    "#rows = db.fetchall()\n",
    "#print(rows)"
   ]
  },
  {
   "cell_type": "code",
   "execution_count": null,
   "id": "af96f1c3-a1c2-4308-ada9-4ac2d33e81c6",
   "metadata": {},
   "outputs": [],
   "source": [
    "detailed_movies(db)"
   ]
  },
  {
   "cell_type": "code",
   "execution_count": null,
   "id": "cfb186ba-0ff0-4aea-8e9d-6601b29800a3",
   "metadata": {},
   "outputs": [],
   "source": [
    "late_released_movies(db)"
   ]
  },
  {
   "cell_type": "code",
   "execution_count": null,
   "id": "be9ac69a-337e-4615-a8ec-f21743fa7a65",
   "metadata": {},
   "outputs": [],
   "source": [
    "stats_on(db, \"Action,Adventure,Comedy\")"
   ]
  },
  {
   "cell_type": "code",
   "execution_count": null,
   "id": "37202e9d-281d-46d3-a331-5986fefde631",
   "metadata": {},
   "outputs": [],
   "source": [
    "top_five_directors_for(db, \"Action,Adventure,Comedy\")"
   ]
  },
  {
   "cell_type": "code",
   "execution_count": null,
   "id": "c2b7f87a-28e6-48a2-bef0-56eeef29c74d",
   "metadata": {},
   "outputs": [],
   "source": [
    "movie_duration_buckets(db)"
   ]
  },
  {
   "cell_type": "code",
   "execution_count": null,
   "id": "c97d4f80-0829-4ddc-9f51-f68526d45333",
   "metadata": {},
   "outputs": [],
   "source": [
    "top_five_youngest_newly_directors(db)"
   ]
  },
  {
   "cell_type": "code",
   "execution_count": null,
   "id": "93fc0801-11cd-41c2-badf-3162a7d5a0cc",
   "metadata": {},
   "outputs": [],
   "source": [
    "def detailed_movies(db):\n",
    "    '''return the list of movies with their genres and director name'''\n",
    "    \n",
    "    query = \"\"\"\n",
    "        SELECT\n",
    "            movies.title,\n",
    "            movies.genres,\n",
    "            directors.name\n",
    "        FROM movies\n",
    "        JOIN directors ON movies.director_id = directors.id\n",
    "    \"\"\"\n",
    "    db.execute(query)\n",
    "    movies = db.fetchall()\n",
    "    return movies"
   ]
  },
  {
   "cell_type": "code",
   "execution_count": null,
   "id": "fe5a0bc5-f741-4871-a3fb-45d271442d19",
   "metadata": {},
   "outputs": [],
   "source": [
    "def late_released_movies(db):\n",
    "    '''return the list of all movies released after their director death'''\n",
    "    \n",
    "    query = \"\"\"\n",
    "        SELECT movies.title\n",
    "        FROM directors\n",
    "        JOIN movies ON directors.id = movies.director_id\n",
    "        WHERE (movies.start_year - directors.death_year) > 0\n",
    "        ORDER BY movies.title\n",
    "    \"\"\"\n",
    "    db.execute(query)\n",
    "    movies = db.fetchall()\n",
    "    return [movie[0] for movie in movies]"
   ]
  },
  {
   "cell_type": "code",
   "execution_count": null,
   "id": "dfaa7cd0-394f-47c4-9d86-e475df18647c",
   "metadata": {},
   "outputs": [],
   "source": [
    "def stats_on(db, genre_name):\n",
    "    '''return a dict of stats for a given genre'''\n",
    "    \n",
    "    query = \"\"\"\n",
    "        SELECT\n",
    "            genres,\n",
    "            COUNT(*),\n",
    "            ROUND(AVG(minutes), 2)\n",
    "        FROM movies\n",
    "        WHERE genres = ?\n",
    "    \"\"\"\n",
    "    db.execute(query, (genre_name,))\n",
    "    stat = db.fetchone()\n",
    "    print(stat)\n",
    "    return {\n",
    "        \"genre\": stat[0],\n",
    "        \"number_of_movies\": stat[1],\n",
    "        \"avg_length\": stat[2]\n",
    "    }"
   ]
  },
  {
   "cell_type": "code",
   "execution_count": null,
   "id": "b68edf8b-8377-4b4c-9bab-4229b7f302c0",
   "metadata": {},
   "outputs": [],
   "source": [
    "def top_five_directors_for(db, genre_name):\n",
    "    '''return the top 5 of the directors with the most movies for a given genre'''\n",
    "    \n",
    "    query = \"\"\"\n",
    "        SELECT\n",
    "            directors.name,\n",
    "            COUNT(*) movie_count\n",
    "        FROM movies\n",
    "        JOIN directors ON movies.director_id = directors.id\n",
    "        WHERE movies.genres = ?\n",
    "        GROUP BY directors.name\n",
    "        ORDER BY movie_count DESC, directors.name\n",
    "        LIMIT 5\n",
    "    \"\"\"\n",
    "    db.execute(query, (genre_name,))\n",
    "    directors = db.fetchall()\n",
    "    return directors"
   ]
  },
  {
   "cell_type": "code",
   "execution_count": null,
   "id": "b0297a27-07c1-42ac-87ae-e9f14e7a0adb",
   "metadata": {},
   "outputs": [],
   "source": [
    "\n",
    "def movie_duration_buckets(db):\n",
    "    '''return the movie counts grouped by bucket of 30 min duration'''\n",
    "    \n",
    "    query = \"\"\"\n",
    "        SELECT\n",
    "            (minutes / 30 + 1)*30 time_range,\n",
    "            COUNT(*)\n",
    "        FROM movies\n",
    "        WHERE minutes IS NOT NULL\n",
    "        GROUP BY time_range\n",
    "    \"\"\"\n",
    "    return db.execute(query).fetchall()"
   ]
  },
  {
   "cell_type": "code",
   "execution_count": null,
   "id": "f624e82d-b550-41f9-a111-c3885c224fe9",
   "metadata": {},
   "outputs": [],
   "source": [
    "def top_five_youngest_newly_directors(db):\n",
    "    '''return the top 5 youngest directors when they direct their first movie'''\n",
    "    \n",
    "    query = \"\"\"\n",
    "        SELECT\n",
    "            directors.name,\n",
    "            movies.start_year - directors.birth_year age\n",
    "        FROM directors\n",
    "        JOIN movies ON directors.id = movies.director_id\n",
    "        GROUP BY directors.name\n",
    "        HAVING age IS NOT NULL\n",
    "        ORDER BY age\n",
    "        LIMIT 5\n",
    "    \"\"\"\n",
    "    db.execute(query)\n",
    "    directors = db.fetchall()\n",
    "    return directors"
   ]
  },
  {
   "cell_type": "code",
   "execution_count": null,
   "id": "370bd2f4-7cac-4dd7-adb8-f6f244ba5b57",
   "metadata": {},
   "outputs": [],
   "source": []
  }
 ],
 "metadata": {
  "kernelspec": {
   "display_name": "Python 3 (ipykernel)",
   "language": "python",
   "name": "python3"
  },
  "language_info": {
   "codemirror_mode": {
    "name": "ipython",
    "version": 3
   },
   "file_extension": ".py",
   "mimetype": "text/x-python",
   "name": "python",
   "nbconvert_exporter": "python",
   "pygments_lexer": "ipython3",
   "version": "3.10.8"
  }
 },
 "nbformat": 4,
 "nbformat_minor": 5
}
